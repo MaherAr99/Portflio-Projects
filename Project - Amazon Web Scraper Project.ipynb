{
 "cells": [
  {
   "cell_type": "code",
   "execution_count": 3,
   "id": "59101c6d-b3fa-4434-ae77-26bcf7964593",
   "metadata": {},
   "outputs": [],
   "source": [
    "#import libraries\n",
    "\n",
    "from bs4 import BeautifulSoup\n",
    "import requests\n",
    "import time\n",
    "import datetime\n",
    "import smtplib"
   ]
  },
  {
   "cell_type": "code",
   "execution_count": 4,
   "id": "fed09c18-df06-49c0-b44b-3a8054c4041c",
   "metadata": {},
   "outputs": [
    {
     "name": "stdout",
     "output_type": "stream",
     "text": [
      "\n",
      "                   Funny Got Data MIS Data Systems Business Analyst T-Shirt\n",
      "                  \n",
      "\n",
      "\n",
      "\n",
      "\n",
      "             'Funny Got Data MIS Data Systems Business Analyst' is a funny pickup perfect for people interested in MIS and data systems who works in IT or data consulting! Any business analyst or consultant that works with big data will love it!\n",
      "            \n",
      "\n",
      "\n"
     ]
    }
   ],
   "source": [
    "# Connect to website\n",
    "\n",
    "url='https://www.amazon.com/Funny-Data-Systems-Business-Analyst/dp/B07FNW9FGJ/ref=sr_1_3?dchild=1&keywords=data%2Banalyst%2Btshirt&qid=1626655184&sr=8-3&customId=B0752XJYNL&th=1'\n",
    "\n",
    "page= requests.get(url)\n",
    "\n",
    "soup1= BeautifulSoup(page.content,\"html.parser\")\n",
    "\n",
    "soup2= BeautifulSoup(soup1.prettify(),\"html.parser\")\n",
    "\n",
    "title=soup2.find(id='productTitle').get_text()\n",
    "\n",
    "desc=soup2.find(id='productDescription').get_text()\n",
    "\n",
    "facts=soup2.find(id='productFactsDesktopExpander').get_text()\n",
    "\n",
    "print(title)\n",
    "print(desc)"
   ]
  },
  {
   "cell_type": "code",
   "execution_count": 5,
   "id": "2218478d-4753-4c99-ba88-7770c2c63b8c",
   "metadata": {},
   "outputs": [
    {
     "name": "stdout",
     "output_type": "stream",
     "text": [
      "Funny Got Data MIS Data Systems Business Analyst T-Shirt\n",
      "'Funny Got Data MIS Data Systems Business Analyst' is a funny pickup perfect for people interested in MIS and data systems who works in IT or data consulting! Any business analyst or consultant that works with big data will love it!\n"
     ]
    }
   ],
   "source": [
    "# Clean up the data a little bit\n",
    "\n",
    "desc = desc.strip()\n",
    "title = title.strip()\n",
    "\n",
    "\n",
    "print(title)\n",
    "print(desc)\n"
   ]
  },
  {
   "cell_type": "code",
   "execution_count": 6,
   "id": "38ea9087-d286-49b4-bd95-59ba2579fada",
   "metadata": {},
   "outputs": [
    {
     "name": "stdout",
     "output_type": "stream",
     "text": [
      "2024-06-16\n"
     ]
    }
   ],
   "source": [
    "# Create a Timestamp for your output to track when data was collected\n",
    "\n",
    "import datetime\n",
    "\n",
    "today = datetime.date.today()\n",
    "\n",
    "print(today)"
   ]
  },
  {
   "cell_type": "code",
   "execution_count": 7,
   "id": "b2bcb188-e219-463c-a963-fb72254efeaf",
   "metadata": {},
   "outputs": [],
   "source": [
    "# Create CSV and write headers and data into the file\n",
    "\n",
    "import csv \n",
    "\n",
    "header = ['Title', 'Desc', 'Date']\n",
    "data = [title, desc, today]\n",
    "\n",
    "\n",
    "with open('AmazonWebScraperDataset.csv', 'w', newline='', encoding='UTF8') as f:\n",
    "    writer = csv.writer(f)\n",
    "    writer.writerow(header)\n",
    "    writer.writerow(data)\n",
    "    "
   ]
  },
  {
   "cell_type": "code",
   "execution_count": 8,
   "id": "6eeda990-0174-4b28-83e6-707732eda678",
   "metadata": {},
   "outputs": [
    {
     "name": "stdout",
     "output_type": "stream",
     "text": [
      "                                               Title  \\\n",
      "0  Funny Got Data MIS Data Systems Business Analy...   \n",
      "\n",
      "                                                Desc        Date  \n",
      "0  'Funny Got Data MIS Data Systems Business Anal...  2024-06-16  \n"
     ]
    }
   ],
   "source": [
    "import pandas as pd\n",
    "\n",
    "df = pd.read_csv(r'C:\\Users\\Maher\\AmazonWebScraperDataset.csv')\n",
    "\n",
    "print(df)"
   ]
  },
  {
   "cell_type": "code",
   "execution_count": 9,
   "id": "7fcbb4d2-837b-450a-ad89-207ec8cdbf90",
   "metadata": {},
   "outputs": [],
   "source": [
    "#Now we are appending data to the csv\n",
    "\n",
    "with open('AmazonWebScraperDataset.csv', 'a+', newline='', encoding='UTF8') as f:\n",
    "    writer = csv.writer(f)\n",
    "    writer.writerow(data)"
   ]
  },
  {
   "cell_type": "code",
   "execution_count": 10,
   "id": "ea99a5f6-5999-4cfc-b9ad-6a83edfaac1d",
   "metadata": {},
   "outputs": [
    {
     "name": "stdout",
     "output_type": "stream",
     "text": [
      "                                               Title  \\\n",
      "0  Funny Got Data MIS Data Systems Business Analy...   \n",
      "1  Funny Got Data MIS Data Systems Business Analy...   \n",
      "\n",
      "                                                Desc        Date  \n",
      "0  'Funny Got Data MIS Data Systems Business Anal...  2024-06-16  \n",
      "1  'Funny Got Data MIS Data Systems Business Anal...  2024-06-16  \n"
     ]
    }
   ],
   "source": [
    "import pandas as pd\n",
    "\n",
    "df = pd.read_csv(r'C:\\Users\\Maher\\AmazonWebScraperDataset.csv')\n",
    "\n",
    "print(df)"
   ]
  },
  {
   "cell_type": "code",
   "execution_count": 11,
   "id": "2f7e76ff-435e-41ed-ae8e-85a1c32b49be",
   "metadata": {},
   "outputs": [],
   "source": [
    "#Combine all of the above code into one function\n",
    "\n",
    "\n",
    "def check_desc():\n",
    "    URL = 'https://www.amazon.com/Funny-Data-Systems-Business-Analyst/dp/B07FNW9FGJ/ref=sr_1_3?dchild=1&keywords=data%2Banalyst%2Btshirt&qid=1626655184&sr=8-3&customId=B0752XJYNL&th=1'\n",
    "\n",
    "    page = requests.get(URL)\n",
    "\n",
    "    soup1 = BeautifulSoup(page.content, \"html.parser\")\n",
    "\n",
    "    soup2 = BeautifulSoup(soup1.prettify(), \"html.parser\")\n",
    "\n",
    "    title = soup2.find(id='productTitle').get_text()\n",
    "\n",
    "    desc=soup2.find(id='productDescription').get_text()\n",
    "\n",
    "    desc = desc.strip()\n",
    "    title = title.strip()\n",
    "\n",
    "    import datetime\n",
    "\n",
    "    today = datetime.date.today()\n",
    "    \n",
    "    import csv \n",
    "\n",
    "    header = ['Title', 'Desc', 'Date']\n",
    "    data = [title, desc, today]\n",
    "\n",
    "    with open('AmazonWebScraperDataset.csv', 'a+', newline='', encoding='UTF8') as f:\n",
    "        writer = csv.writer(f)\n",
    "        writer.writerow(data)\n",
    " "
   ]
  },
  {
   "cell_type": "code",
   "execution_count": null,
   "id": "f65afd02-c953-4148-9797-8ddef22eeff1",
   "metadata": {},
   "outputs": [],
   "source": [
    "# Runs check_desc after a set time and inputs data into your CSV\n",
    "\n",
    "while(True):\n",
    "    check_desc()\n",
    "    time.sleep(1000)"
   ]
  },
  {
   "cell_type": "code",
   "execution_count": null,
   "id": "484e01b0-2b77-4f0b-9dea-733e4723ccc9",
   "metadata": {},
   "outputs": [],
   "source": [
    "import pandas as pd\n",
    "\n",
    "df = pd.read_csv(r'C:\\Users\\Maher\\AmazonWebScraperDataset.csv')\n",
    "\n",
    "print(df)"
   ]
  },
  {
   "cell_type": "code",
   "execution_count": null,
   "id": "4ed5fb86-2f86-4dde-9210-6f4f3e0a227c",
   "metadata": {},
   "outputs": [],
   "source": []
  },
  {
   "cell_type": "code",
   "execution_count": null,
   "id": "6d1c53e8-2e21-4d1d-9dbe-c22aa989b09d",
   "metadata": {},
   "outputs": [],
   "source": []
  },
  {
   "cell_type": "code",
   "execution_count": null,
   "id": "8b3bca9a-f457-443a-964f-90ba4fa10c72",
   "metadata": {},
   "outputs": [],
   "source": []
  },
  {
   "cell_type": "code",
   "execution_count": null,
   "id": "b40bd121-cc7e-47b5-97fe-619734b3c56b",
   "metadata": {},
   "outputs": [],
   "source": []
  },
  {
   "cell_type": "code",
   "execution_count": null,
   "id": "95dc2814-edc8-45f7-8755-1084e27f564d",
   "metadata": {},
   "outputs": [],
   "source": []
  }
 ],
 "metadata": {
  "kernelspec": {
   "display_name": "Python 3 (ipykernel)",
   "language": "python",
   "name": "python3"
  },
  "language_info": {
   "codemirror_mode": {
    "name": "ipython",
    "version": 3
   },
   "file_extension": ".py",
   "mimetype": "text/x-python",
   "name": "python",
   "nbconvert_exporter": "python",
   "pygments_lexer": "ipython3",
   "version": "3.11.7"
  }
 },
 "nbformat": 4,
 "nbformat_minor": 5
}
